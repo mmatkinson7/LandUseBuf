{
 "cells": [
  {
   "cell_type": "markdown",
   "id": "contemporary-holiday",
   "metadata": {},
   "source": [
    "# Land Use Categorization for TMD23\n",
    "This is intended to be a demo implementing the new definitions of land use categorizations for the Trip Generation step of the TDM23 (travel demand model in development). This notebook starts with categorization of Central Business Districts (CBDs).\n",
    "\n",
    "\n",
    "Started March 30th, 2021 - Margaret Atkinson\n",
    "\n",
    "#### Requirements:\n",
    "This is running as a ipynb in Jupyter Notebooks in an Anaconda environment that contains the following:\n",
    "- Python 3.7\n",
    "- numpy\n",
    "- pandas\n",
    "- openmatrix\n",
    "- matplotlib\n",
    "- descartes\n",
    "- ipympl\n",
    "- geopandas\n",
    "- nb_conda\n",
    "- nb_conda_kernels\n",
    "- folium\n",
    "- branca\n",
    "- jenkspy (INSTALL FIRST)\n",
    "\n",
    "For more information on how this environment was set up, see: https://github.com/bkrepp-ctps/mde-prototype-python\n",
    "\n",
    "#### Just a note about environments:\n",
    "\n",
    "This script seems to require pyproj > 2.2. The environment base_py_37_branca seems to have this.\n",
    "\n",
    "Hypothesis: In order for pyproj to deal with CRS (coordinate reference systems) in the geodataframes - we need to be using the most recent version of pyproj. See: https://geopandas.org/docs/user_guide/projections.html#upgrading-to-geopandas-0-7-with-pyproj-2-2-and-proj-6\n",
    "\n",
    "This changes how we specify CRSs. Also note that going from pivot table back to geodataframe (even though the pivot table has geometry) we need to specify the CRS - which should be the same CRS that the data came out of.\n",
    "\n",
    "Using a version of pyproj that uses the {'init': 'ESPG4326'} format is giving me inconsistent results - sometimes maintaining the CRS and sometimes not. This causes the buffers to be larger than desired and causes problems for spatial join.\n",
    "\n",
    "\n",
    "#### Links about Decay Functions\n",
    "- https://aceso.readthedocs.io/_/downloads/en/latest/pdf/\n",
    "- https://geographicdata.science/book/notebooks/04_spatial_weights.html\n",
    "- https://github.com/pysal/pysal\n"
   ]
  },
  {
   "cell_type": "markdown",
   "id": "practical-gathering",
   "metadata": {},
   "source": [
    "## Definitions:\n",
    "### CBD\n",
    "CBD: A TAZ is marked as a CBD if it is within 0.25 miles of two heavy rail (subway) stops from two different lines.\n",
    "\n",
    "Methodology Plan: Buffer each heavy rail stop and dissolve by line to get one buffer per heavy rail line. Count the number of heavy rail line buffers intersect with each TAZ. If number is >1, the TAZ is a CBD.\n",
    "\n",
    "### Urban\n",
    "\n",
    "### Suburban\n",
    "\n",
    "### Rural"
   ]
  },
  {
   "cell_type": "code",
   "execution_count": 1,
   "id": "instant-recycling",
   "metadata": {},
   "outputs": [],
   "source": [
    "#IMPORT LIBRARIES\n",
    "import numpy as np\n",
    "import pandas as pd\n",
    "import matplotlib.pyplot as plt\n",
    "import geopandas as gpd"
   ]
  },
  {
   "cell_type": "code",
   "execution_count": 27,
   "id": "brave-friday",
   "metadata": {},
   "outputs": [
    {
     "data": {
      "text/plain": [
       "<Projected CRS: EPSG:26986>\n",
       "Name: NAD83 / Massachusetts Mainland\n",
       "Axis Info [cartesian]:\n",
       "- X[east]: Easting (metre)\n",
       "- Y[north]: Northing (metre)\n",
       "Area of Use:\n",
       "- name: United States (USA) - Massachusetts onshore - counties of Barnstable; Berkshire; Bristol; Essex; Franklin; Hampden; Hampshire; Middlesex; Norfolk; Plymouth; Suffolk; Worcester.\n",
       "- bounds: (-73.5, 41.46, -69.86, 42.89)\n",
       "Coordinate Operation:\n",
       "- name: SPCS83 Massachusetts Mainland zone (meters)\n",
       "- method: Lambert Conic Conformal (2SP)\n",
       "Datum: North American Datum 1983\n",
       "- Ellipsoid: GRS 1980\n",
       "- Prime Meridian: Greenwich"
      ]
     },
     "execution_count": 27,
     "metadata": {},
     "output_type": "execute_result"
    }
   ],
   "source": [
    "#FOR CBD - some of this can be reused\n",
    "#Import Data\n",
    "#import TAZ shapefile\n",
    "#(https://geopandas.org/docs/user_guide/io.html)\n",
    "taz = \"G:\\Data_Resources\\DataStore\\Ben_Marg_Proto\\candidate_CTPS_TAZ_STATE_2019.shp\"\n",
    "    #load into a geodataframe\n",
    "taz = gpd.read_file(taz)\n",
    "    #filter to just be TAZ ID and geometry\n",
    "taz = taz[['id','geometry']]\n",
    "    #rename ID to TAZ_ID\n",
    "taz = taz.rename(columns={\"id\":\"TAZ_ID\"})\n",
    "\n",
    "#import all stops (must have line column)\n",
    "hr_stops = \"G:\\Regional_Modeling\\Projects\\Landuse Type_Project\\To Margrate\\Model_Stops_CRS.shp\"\n",
    "hr_stops = gpd.read_file(hr_stops)\n",
    "\n",
    "#transform TAZ and stop layers' CRS to CTPS Standard - \"EPSG:26986\" (Massachusetts State Plane)\n",
    "taz = taz.to_crs(\"EPSG:26986\")\n",
    "hr_stops = hr_stops.to_crs(\"EPSG:26986\")\n",
    "\n",
    "#filter all stops to just heavy rail stops\n",
    "hr_stops = hr_stops[hr_stops['MODE'].isin([5,6,7,8])] \n",
    "#mode 4 is Green, 5 is Red, Mattapan is 6 (Ashmont to Mattapan), Blue is 8, Orange is 7\n",
    "    #DO I NEED TO TREAT MATTAPAN AS 5???\n",
    "    #if so: (two lines doing identical things)\n",
    "    #https://stackoverflow.com/questions/34499584/use-of-loc-to-update-a-dataframe-python-pandas\n",
    "hr_stops['MODE'] = hr_stops['MODE'].replace(6,5)\n",
    "#hr_stops.loc[hr_stops['MODE'] == 6, 'MODE'] = 5\n",
    "\n",
    "\n",
    "#filter\n",
    "hr_stops = hr_stops[['ID', 'MODE', 'STOP_NAME', 'geometry']]\n",
    "hr_stops.crs"
   ]
  },
  {
   "cell_type": "markdown",
   "id": "automated-cement",
   "metadata": {},
   "source": [
    "## CBD"
   ]
  },
  {
   "cell_type": "code",
   "execution_count": 28,
   "id": "sublime-valuation",
   "metadata": {},
   "outputs": [],
   "source": [
    "#BUFFER CELL\n",
    "\n",
    "#convert the 0.25 mile buffer distance into meters (CRS is in meters)\n",
    "buf25 = 0.5*1609.34\n",
    "\n",
    "#make a copy of hr_stops to buffer\n",
    "hr_buf = hr_stops\n",
    "\n",
    "#Buffer the heavy rail stops\n",
    "#(https://geopandas.org/docs/user_guide/geometric_manipulations.html)\n",
    "#(https://gis.stackexchange.com/questions/253224/geopandas-buffer-using-geodataframe-while-maintaining-the-dataframe)\n",
    "    #keep attribute data by replacing the geometry column\n",
    "hr_buf['geometry']= hr_buf.buffer(buf25)\n",
    "\n",
    "#group by line and dissolve\n",
    "#(https://geopandas.org/docs/user_guide/aggregation_with_dissolve.html)\n",
    "    #.reset_index() is because the by=field will turn the field into the index and have it not be a col\n",
    "hr_buf_dis = hr_buf.dissolve(by='MODE').reset_index()\n",
    "\n",
    "#only get what we need\n",
    "hr_buf_dis = hr_buf_dis[['MODE', 'geometry']]"
   ]
  },
  {
   "cell_type": "code",
   "execution_count": 29,
   "id": "virtual-clock",
   "metadata": {},
   "outputs": [
    {
     "data": {
      "text/plain": [
       "<Projected CRS: EPSG:26986>\n",
       "Name: NAD83 / Massachusetts Mainland\n",
       "Axis Info [cartesian]:\n",
       "- X[east]: Easting (metre)\n",
       "- Y[north]: Northing (metre)\n",
       "Area of Use:\n",
       "- name: United States (USA) - Massachusetts onshore - counties of Barnstable; Berkshire; Bristol; Essex; Franklin; Hampden; Hampshire; Middlesex; Norfolk; Plymouth; Suffolk; Worcester.\n",
       "- bounds: (-73.5, 41.46, -69.86, 42.89)\n",
       "Coordinate Operation:\n",
       "- name: SPCS83 Massachusetts Mainland zone (meters)\n",
       "- method: Lambert Conic Conformal (2SP)\n",
       "Datum: North American Datum 1983\n",
       "- Ellipsoid: GRS 1980\n",
       "- Prime Meridian: Greenwich"
      ]
     },
     "execution_count": 29,
     "metadata": {},
     "output_type": "execute_result"
    }
   ],
   "source": [
    "#make sure everything is kosher\n",
    "#hr_buf_dis.crs=\"EPSG:26986\"\n",
    "#hr_buf_dis = gpd.GeoDataFrame(hr_buf_dis)\n",
    "\n",
    "#hr_buf_dis.plot()\n",
    "#hr_buf_dis.crs=\"EPSG:26986\"\n",
    "hr_buf_dis.crs "
   ]
  },
  {
   "cell_type": "code",
   "execution_count": 30,
   "id": "beautiful-firewall",
   "metadata": {},
   "outputs": [
    {
     "data": {
      "text/plain": [
       "<Projected CRS: EPSG:26986>\n",
       "Name: NAD83 / Massachusetts Mainland\n",
       "Axis Info [cartesian]:\n",
       "- X[east]: Easting (metre)\n",
       "- Y[north]: Northing (metre)\n",
       "Area of Use:\n",
       "- name: United States (USA) - Massachusetts onshore - counties of Barnstable; Berkshire; Bristol; Essex; Franklin; Hampden; Hampshire; Middlesex; Norfolk; Plymouth; Suffolk; Worcester.\n",
       "- bounds: (-73.5, 41.46, -69.86, 42.89)\n",
       "Coordinate Operation:\n",
       "- name: SPCS83 Massachusetts Mainland zone (meters)\n",
       "- method: Lambert Conic Conformal (2SP)\n",
       "Datum: North American Datum 1983\n",
       "- Ellipsoid: GRS 1980\n",
       "- Prime Meridian: Greenwich"
      ]
     },
     "execution_count": 30,
     "metadata": {},
     "output_type": "execute_result"
    }
   ],
   "source": [
    "#INTERSECT AND COUNT CELL\n",
    "\n",
    "#do a spatial join between TAZ and buffers\n",
    "#(https://geopandas.org/docs/user_guide/mergingdata.html)\n",
    "hr_sj = gpd.sjoin(taz,hr_buf_dis,how =\"left\", op=\"intersects\")\n",
    "\n",
    "hr_sj.crs\n",
    "\n",
    "\n",
    "#make pivot table counting for each TAZ ID how many Line_IDs\n",
    "    #note each line should only have one polygon so a taz should not be able to have multiple intersections with the same LineID\n",
    "    ##keep geometry, count mode\n",
    "#(https://pandas.pydata.org/docs/reference/api/pandas.pivot_table.html)\n",
    "hr_pv = pd.pivot_table(hr_sj, index = \"TAZ_ID\", aggfunc={'MODE':'count', 'geometry': 'first'}).reset_index()\n",
    "hr_pv = gpd.GeoDataFrame(hr_pv)\n",
    "hr_pv.crs=\"EPSG:26986\"\n",
    "\n",
    "hr_pv.crs"
   ]
  },
  {
   "cell_type": "code",
   "execution_count": 31,
   "id": "requested-service",
   "metadata": {},
   "outputs": [
    {
     "data": {
      "text/html": [
       "<div>\n",
       "<style scoped>\n",
       "    .dataframe tbody tr th:only-of-type {\n",
       "        vertical-align: middle;\n",
       "    }\n",
       "\n",
       "    .dataframe tbody tr th {\n",
       "        vertical-align: top;\n",
       "    }\n",
       "\n",
       "    .dataframe thead th {\n",
       "        text-align: right;\n",
       "    }\n",
       "</style>\n",
       "<table border=\"1\" class=\"dataframe\">\n",
       "  <thead>\n",
       "    <tr style=\"text-align: right;\">\n",
       "      <th></th>\n",
       "      <th>TAZ_ID</th>\n",
       "      <th>MODE_COUNT</th>\n",
       "      <th>geometry</th>\n",
       "      <th>CBD_Flag</th>\n",
       "    </tr>\n",
       "  </thead>\n",
       "  <tbody>\n",
       "    <tr>\n",
       "      <th>0</th>\n",
       "      <td>1</td>\n",
       "      <td>3</td>\n",
       "      <td>POLYGON ((235848.827 901768.399, 235835.856 90...</td>\n",
       "      <td>1</td>\n",
       "    </tr>\n",
       "    <tr>\n",
       "      <th>1</th>\n",
       "      <td>2</td>\n",
       "      <td>3</td>\n",
       "      <td>POLYGON ((235983.175 901640.457, 235978.313 90...</td>\n",
       "      <td>1</td>\n",
       "    </tr>\n",
       "    <tr>\n",
       "      <th>2</th>\n",
       "      <td>3</td>\n",
       "      <td>3</td>\n",
       "      <td>POLYGON ((235967.030 901591.944, 235967.790 90...</td>\n",
       "      <td>1</td>\n",
       "    </tr>\n",
       "    <tr>\n",
       "      <th>3</th>\n",
       "      <td>4</td>\n",
       "      <td>2</td>\n",
       "      <td>POLYGON ((236117.919 901965.053, 236042.500 90...</td>\n",
       "      <td>1</td>\n",
       "    </tr>\n",
       "    <tr>\n",
       "      <th>4</th>\n",
       "      <td>5</td>\n",
       "      <td>2</td>\n",
       "      <td>POLYGON ((236782.571 902122.456, 236733.885 90...</td>\n",
       "      <td>1</td>\n",
       "    </tr>\n",
       "    <tr>\n",
       "      <th>...</th>\n",
       "      <td>...</td>\n",
       "      <td>...</td>\n",
       "      <td>...</td>\n",
       "      <td>...</td>\n",
       "    </tr>\n",
       "    <tr>\n",
       "      <th>145</th>\n",
       "      <td>146</td>\n",
       "      <td>2</td>\n",
       "      <td>POLYGON ((236789.530 899785.961, 236830.814 89...</td>\n",
       "      <td>1</td>\n",
       "    </tr>\n",
       "    <tr>\n",
       "      <th>146</th>\n",
       "      <td>147</td>\n",
       "      <td>2</td>\n",
       "      <td>POLYGON ((236727.250 899247.574, 236821.090 89...</td>\n",
       "      <td>1</td>\n",
       "    </tr>\n",
       "    <tr>\n",
       "      <th>624</th>\n",
       "      <td>625</td>\n",
       "      <td>2</td>\n",
       "      <td>POLYGON ((235365.474 902027.539, 235274.972 90...</td>\n",
       "      <td>1</td>\n",
       "    </tr>\n",
       "    <tr>\n",
       "      <th>625</th>\n",
       "      <td>626</td>\n",
       "      <td>2</td>\n",
       "      <td>POLYGON ((235150.211 902165.195, 235100.600 90...</td>\n",
       "      <td>1</td>\n",
       "    </tr>\n",
       "    <tr>\n",
       "      <th>627</th>\n",
       "      <td>628</td>\n",
       "      <td>2</td>\n",
       "      <td>POLYGON ((234951.783 901304.682, 234951.700 90...</td>\n",
       "      <td>1</td>\n",
       "    </tr>\n",
       "  </tbody>\n",
       "</table>\n",
       "<p>96 rows × 4 columns</p>\n",
       "</div>"
      ],
      "text/plain": [
       "     TAZ_ID  MODE_COUNT                                           geometry  \\\n",
       "0         1           3  POLYGON ((235848.827 901768.399, 235835.856 90...   \n",
       "1         2           3  POLYGON ((235983.175 901640.457, 235978.313 90...   \n",
       "2         3           3  POLYGON ((235967.030 901591.944, 235967.790 90...   \n",
       "3         4           2  POLYGON ((236117.919 901965.053, 236042.500 90...   \n",
       "4         5           2  POLYGON ((236782.571 902122.456, 236733.885 90...   \n",
       "..      ...         ...                                                ...   \n",
       "145     146           2  POLYGON ((236789.530 899785.961, 236830.814 89...   \n",
       "146     147           2  POLYGON ((236727.250 899247.574, 236821.090 89...   \n",
       "624     625           2  POLYGON ((235365.474 902027.539, 235274.972 90...   \n",
       "625     626           2  POLYGON ((235150.211 902165.195, 235100.600 90...   \n",
       "627     628           2  POLYGON ((234951.783 901304.682, 234951.700 90...   \n",
       "\n",
       "     CBD_Flag  \n",
       "0           1  \n",
       "1           1  \n",
       "2           1  \n",
       "3           1  \n",
       "4           1  \n",
       "..        ...  \n",
       "145         1  \n",
       "146         1  \n",
       "624         1  \n",
       "625         1  \n",
       "627         1  \n",
       "\n",
       "[96 rows x 4 columns]"
      ]
     },
     "execution_count": 31,
     "metadata": {},
     "output_type": "execute_result"
    }
   ],
   "source": [
    "#rename Line_ID count field\n",
    "hr_pv = hr_pv.rename(columns={\"MODE\":\"MODE_COUNT\"})\n",
    "\n",
    "#make CBD flag field (conditional - 1 where CBD, 0 where not)\n",
    "#(https://cmdlinetips.com/2019/05/how-to-create-a-column-using-condition-on-another-column-in-pandas/)\n",
    "hr_pv['CBD_Flag'] = np.where(hr_pv.MODE_COUNT >1, 1, 0)\n",
    "\n",
    "#filter to just have CBD TAZs\n",
    "#(https://www.geeksforgeeks.org/ways-to-filter-pandas-dataframe-by-column-values/)\n",
    "CBD_TAZ = hr_pv[hr_pv['CBD_Flag'] == 1]\n",
    "\n",
    "CBD_TAZ"
   ]
  },
  {
   "cell_type": "code",
   "execution_count": 32,
   "id": "smoking-township",
   "metadata": {},
   "outputs": [
    {
     "name": "stdout",
     "output_type": "stream",
     "text": [
      "Using matplotlib backend: Qt5Agg\n"
     ]
    },
    {
     "data": {
      "text/plain": [
       "<AxesSubplot:>"
      ]
     },
     "execution_count": 32,
     "metadata": {},
     "output_type": "execute_result"
    }
   ],
   "source": [
    "#show a map of the result symbolized on CBD flag field.\n",
    "%matplotlib\n",
    "#hr_pv = gpd.GeoDataFrame(hr_pv)\n",
    "hr_pv.plot(column = 'MODE_COUNT',figsize=(10.0,8.0), legend=True)"
   ]
  },
  {
   "cell_type": "markdown",
   "id": "broken-hours",
   "metadata": {},
   "source": [
    "## Exports for Testing"
   ]
  },
  {
   "cell_type": "code",
   "execution_count": 24,
   "id": "french-declaration",
   "metadata": {},
   "outputs": [],
   "source": [
    "#output as shapefile\n",
    "# Output path\n",
    "outfp = r\"C:\\Users\\matkinson\\Downloads\\TAZ_CBD5.shp\"\n",
    "\n",
    "CBD_TAZ = gpd.GeoDataFrame(CBD_TAZ)\n",
    "# Save to disk\n",
    "CBD_TAZ.to_file(outfp)"
   ]
  },
  {
   "cell_type": "code",
   "execution_count": 25,
   "id": "tender-policy",
   "metadata": {},
   "outputs": [
    {
     "name": "stderr",
     "output_type": "stream",
     "text": [
      "C:\\Users\\matkinson\\Anaconda3\\envs\\base_py_37_branca\\lib\\site-packages\\ipykernel_launcher.py:5: UserWarning: Column names longer than 10 characters will be truncated when saved to ESRI Shapefile.\n",
      "  \"\"\"\n"
     ]
    }
   ],
   "source": [
    "outfp = r\"C:\\Users\\matkinson\\Downloads\\test5.shp\"\n",
    "\n",
    "hr_sj = gpd.GeoDataFrame(hr_sj)\n",
    "# Save to disk\n",
    "hr_sj.to_file(outfp)"
   ]
  },
  {
   "cell_type": "code",
   "execution_count": 26,
   "id": "nonprofit-wilson",
   "metadata": {},
   "outputs": [],
   "source": [
    "outfp = r\"C:\\Users\\matkinson\\Downloads\\buf5.shp\"\n",
    "\n",
    "#hr_buf_dis = gpd.GeoDataFrame(hr_buf_dis)\n",
    "# Save to disk\n",
    "hr_buf_dis.to_file(outfp)"
   ]
  },
  {
   "cell_type": "code",
   "execution_count": null,
   "id": "controversial-milan",
   "metadata": {},
   "outputs": [],
   "source": []
  }
 ],
 "metadata": {
  "kernelspec": {
   "display_name": "Python [conda env:base_py_37_branca]",
   "language": "python",
   "name": "conda-env-base_py_37_branca-py"
  },
  "language_info": {
   "codemirror_mode": {
    "name": "ipython",
    "version": 3
   },
   "file_extension": ".py",
   "mimetype": "text/x-python",
   "name": "python",
   "nbconvert_exporter": "python",
   "pygments_lexer": "ipython3",
   "version": "3.7.10"
  }
 },
 "nbformat": 4,
 "nbformat_minor": 5
}
