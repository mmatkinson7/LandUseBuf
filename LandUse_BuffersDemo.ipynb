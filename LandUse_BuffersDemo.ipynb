{
 "cells": [
  {
   "cell_type": "markdown",
   "id": "contemporary-holiday",
   "metadata": {},
   "source": [
    "# Land Use Categorization for TMD23\n",
    "This is intended to be a demo implementing the new definitions of land use categorizations for the Trip Generation step of the TDM23 (travel demand model in development). This notebook starts with categorization of Central Business Districts (CBDs).\n",
    "\n",
    "\n",
    "Started March 30th, 2021 - Margaret Atkinson\n",
    "\n",
    "#### Requirements:\n",
    "This is running as a ipynb in Jupyter Notebooks in an Anaconda environment that contains the following:\n",
    "- Python 3.7\n",
    "- numpy\n",
    "- pandas\n",
    "- openmatrix\n",
    "- matplotlib\n",
    "- descartes\n",
    "- ipympl\n",
    "- geopandas\n",
    "- nb_conda\n",
    "- nb_conda_kernels\n",
    "- folium\n",
    "\n",
    "For more information on how this environment was set up, see: https://github.com/bkrepp-ctps/mde-prototype-python\n",
    "\n",
    "\n",
    "#### Links about Decay Functions\n",
    "- https://aceso.readthedocs.io/_/downloads/en/latest/pdf/\n",
    "- https://geographicdata.science/book/notebooks/04_spatial_weights.html\n",
    "- https://github.com/pysal/pysal\n"
   ]
  },
  {
   "cell_type": "markdown",
   "id": "practical-gathering",
   "metadata": {},
   "source": [
    "## Definitions:\n",
    "### CBD\n",
    "CBD: A TAZ is marked as a CBD if it is within 0.25 miles of two heavy rail (subway) stops from two different lines.\n",
    "\n",
    "Methodology Plan: Buffer each heavy rail stop and dissolve by line to get one buffer per heavy rail line. Count the number of heavy rail line buffers intersect with each TAZ. If number is >1, the TAZ is a CBD.\n",
    "\n",
    "### Urban\n",
    "\n",
    "### Suburban\n",
    "\n",
    "### Rural"
   ]
  },
  {
   "cell_type": "code",
   "execution_count": 1,
   "id": "instant-recycling",
   "metadata": {},
   "outputs": [],
   "source": [
    "#IMPORT LIBRARIES\n",
    "import numpy as np\n",
    "import pandas as pd\n",
    "import matplotlib.pyplot as plt\n",
    "import geopandas as gpd"
   ]
  },
  {
   "cell_type": "code",
   "execution_count": 16,
   "id": "brave-friday",
   "metadata": {},
   "outputs": [
    {
     "data": {
      "text/html": [
       "<div>\n",
       "<style scoped>\n",
       "    .dataframe tbody tr th:only-of-type {\n",
       "        vertical-align: middle;\n",
       "    }\n",
       "\n",
       "    .dataframe tbody tr th {\n",
       "        vertical-align: top;\n",
       "    }\n",
       "\n",
       "    .dataframe thead th {\n",
       "        text-align: right;\n",
       "    }\n",
       "</style>\n",
       "<table border=\"1\" class=\"dataframe\">\n",
       "  <thead>\n",
       "    <tr style=\"text-align: right;\">\n",
       "      <th></th>\n",
       "      <th>TAZ_ID</th>\n",
       "      <th>geometry</th>\n",
       "    </tr>\n",
       "  </thead>\n",
       "  <tbody>\n",
       "    <tr>\n",
       "      <th>0</th>\n",
       "      <td>4398</td>\n",
       "      <td>POLYGON ((246729.399 855385.952, 246722.789 85...</td>\n",
       "    </tr>\n",
       "    <tr>\n",
       "      <th>1</th>\n",
       "      <td>2571</td>\n",
       "      <td>POLYGON ((247846.936 856739.950, 247846.689 85...</td>\n",
       "    </tr>\n",
       "    <tr>\n",
       "      <th>2</th>\n",
       "      <td>2669</td>\n",
       "      <td>POLYGON ((249688.220 857104.527, 249688.219 85...</td>\n",
       "    </tr>\n",
       "    <tr>\n",
       "      <th>3</th>\n",
       "      <td>4392</td>\n",
       "      <td>POLYGON ((251073.143 851003.537, 251079.003 85...</td>\n",
       "    </tr>\n",
       "    <tr>\n",
       "      <th>4</th>\n",
       "      <td>2641</td>\n",
       "      <td>POLYGON ((264256.501 872054.207, 264263.627 87...</td>\n",
       "    </tr>\n",
       "  </tbody>\n",
       "</table>\n",
       "</div>"
      ],
      "text/plain": [
       "   TAZ_ID                                           geometry\n",
       "0    4398  POLYGON ((246729.399 855385.952, 246722.789 85...\n",
       "1    2571  POLYGON ((247846.936 856739.950, 247846.689 85...\n",
       "2    2669  POLYGON ((249688.220 857104.527, 249688.219 85...\n",
       "3    4392  POLYGON ((251073.143 851003.537, 251079.003 85...\n",
       "4    2641  POLYGON ((264256.501 872054.207, 264263.627 87..."
      ]
     },
     "execution_count": 16,
     "metadata": {},
     "output_type": "execute_result"
    }
   ],
   "source": [
    "#FOR CBD - some of this can be reused\n",
    "#Import Data\n",
    "#import TAZ shapefile\n",
    "#(https://geopandas.org/docs/user_guide/io.html)\n",
    "taz = \"G:\\Data_Resources\\DataStore\\Ben_Marg_Proto\\candidate_CTPS_TAZ_STATE_2019.shp\"\n",
    "    #load into a geodataframe\n",
    "taz = gpd.read_file(taz)\n",
    "    #filter to just be TAZ ID and geometry\n",
    "taz = taz[['id','geometry']]\n",
    "    #rename ID to TAZ_ID\n",
    "taz = taz.rename(columns={\"id\":\"TAZ_ID\"})\n",
    "\n",
    "#import all stops (must have line column)\n",
    "\n",
    "\n",
    "#transform TAZ and stop layers' CRS to CTPS Standard - \"EPSG:26986\" (Massachusetts State Plane)\n",
    "taz = taz.to_crs({\"init\": \"EPSG:26986\"})\n",
    "#hr_stops = hr_stops.to_crs({\"init\": \"EPSG:26986\"})\n",
    "\n",
    "#filter all stops to just heavy rail stops\n",
    "#hr_stops = hr_stops[hr_stops['Line_ID'] in ['Red', 'Blue', 'Orange']]\n",
    "\n",
    "taz.head()"
   ]
  },
  {
   "cell_type": "markdown",
   "id": "automated-cement",
   "metadata": {},
   "source": [
    "## CBD"
   ]
  },
  {
   "cell_type": "code",
   "execution_count": null,
   "id": "sublime-valuation",
   "metadata": {},
   "outputs": [],
   "source": [
    "#BUFFER CELL\n",
    "\n",
    "#convert the 0.25 mile buffer distance into meters (CRS is in meters)\n",
    "buf25 = 0.25/1609.34\n",
    "\n",
    "#Buffer the heavy rail stops\n",
    "#(https://geopandas.org/docs/user_guide/geometric_manipulations.html)\n",
    "hr_buf = hr_stops.buffer(buf25)\n",
    "\n",
    "#group by line and dissolve\n",
    "#(https://geopandas.org/docs/user_guide/aggregation_with_dissolve.html)\n",
    "hr_buf_dis = hr_buf.dissolve(by='Line_ID')"
   ]
  },
  {
   "cell_type": "code",
   "execution_count": null,
   "id": "beautiful-firewall",
   "metadata": {},
   "outputs": [],
   "source": [
    "#INTERSECT AND COUNT CELL\n",
    "\n",
    "#do a spatial join between TAZ and buffers\n",
    "#(https://geopandas.org/docs/user_guide/mergingdata.html)\n",
    "hr_sj = gpd.sjoin(taz,hr_buf_dis,how =\"inner\", op=\"intersect\")\n",
    "#make pivot table counting for each TAZ ID how many Line_IDs\n",
    "    #note each line should only have one polygon so a taz should not be able to have multiple intersections with the same LineID\n",
    "    #but check this\n",
    "#(https://pandas.pydata.org/docs/reference/api/pandas.pivot_table.html)\n",
    "hr_pv = pd.pivot_table(hr_sj, values = \"TAZ_ID\", aggfunc={'Line_ID':np.count}, fill_value = 0)\n",
    "hr_pv"
   ]
  },
  {
   "cell_type": "code",
   "execution_count": null,
   "id": "requested-service",
   "metadata": {},
   "outputs": [],
   "source": [
    "#join pivot back to geo?\n",
    "\n",
    "#rename Line_ID count field\n",
    "hr_join = hr_join.rename(columns={\"Line_ID\":\"Line_Count\"})\n",
    "\n",
    "#make CBD flag field (conditional - 1 where CBD, 0 where not)\n",
    "#(https://cmdlinetips.com/2019/05/how-to-create-a-column-using-condition-on-another-column-in-pandas/)\n",
    "hr_join['CBD_Flag'] = np.where(hr_join.Line_Count >1, 1, 0)\n",
    "\n",
    "#filter to just have CBD TAZs\n",
    "#(https://www.geeksforgeeks.org/ways-to-filter-pandas-dataframe-by-column-values/)\n",
    "CBD_TAZ = hr_join[hr_join['CBD'] = 1]\n",
    "\n",
    "hr_join.head()"
   ]
  },
  {
   "cell_type": "code",
   "execution_count": null,
   "id": "smoking-township",
   "metadata": {},
   "outputs": [],
   "source": [
    "#show a map of the result symbolized on CBD flag field.\n",
    "hr_join.plot(\"CBD\", figsize=(10.0,8.0), legend=True)\n"
   ]
  },
  {
   "cell_type": "code",
   "execution_count": null,
   "id": "french-declaration",
   "metadata": {},
   "outputs": [],
   "source": [
    "#output as shapefile\n",
    "# Output path\n",
    "outfp = r\"C:\\Users\\matkinson\\Downloads\\TAZ_CBD.shp\"\n",
    "\n",
    "# Save to disk\n",
    "CBD_TAZ.to_file(outfp)"
   ]
  }
 ],
 "metadata": {
  "kernelspec": {
   "display_name": "Python [conda env:base_py_37_omx_geop]",
   "language": "python",
   "name": "conda-env-base_py_37_omx_geop-py"
  },
  "language_info": {
   "codemirror_mode": {
    "name": "ipython",
    "version": 3
   },
   "file_extension": ".py",
   "mimetype": "text/x-python",
   "name": "python",
   "nbconvert_exporter": "python",
   "pygments_lexer": "ipython3",
   "version": "3.7.10"
  }
 },
 "nbformat": 4,
 "nbformat_minor": 5
}
